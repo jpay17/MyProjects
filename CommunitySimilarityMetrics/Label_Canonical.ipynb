{
 "cells": [
  {
   "cell_type": "code",
   "execution_count": null,
   "metadata": {
    "collapsed": true
   },
   "outputs": [],
   "source": [
    "# This code, when augmented with Alex Hawkins-Hooker's code, will generate the bipartite_pickle.pickle network that\n",
    "# is read in, in the Testing_Metrics file.\n",
    "\n",
    "# The following code reads in a list of philosopher's names, checks them against the set of canonical philosophers\n",
    "# from the DBpedia dataset, and adds the name as a node in the graph along with the boolean attribute \"canonical\"\n",
    "names = nx.get_node_attributes(phil_graph, 'name')"
   ]
  },
  {
   "cell_type": "code",
   "execution_count": null,
   "metadata": {
    "collapsed": true
   },
   "outputs": [],
   "source": [
    "names = [x for y,x in names.items()]"
   ]
  },
  {
   "cell_type": "code",
   "execution_count": null,
   "metadata": {
    "collapsed": true
   },
   "outputs": [],
   "source": [
    "cleaned_names = set()\n",
    "for name in names:\n",
    "    list_name = name.lower().split(' ')\n",
    "    cleaned_name = list_name[-1]\n",
    "    for f in list_name[:-1]:\n",
    "        cleaned_name = cleaned_name + \" \" + f[0] \n",
    "    cleaned_names.add(cleaned_name)"
   ]
  },
  {
   "cell_type": "code",
   "execution_count": null,
   "metadata": {
    "collapsed": true
   },
   "outputs": [],
   "source": [
    "# Populate edges\n",
    "edge_list = []\n",
    "\n",
    "with open('/afs/inf.ed.ac.uk/user/s16/s1681453/data_justin/stn_edge_list_attrs_wos.csv') as csvfile:\n",
    "    reader = csv.reader(csvfile, delimiter=',')\n",
    "    next(reader) # Skip the header\n",
    "    for row in reader:\n",
    "        edge_list.append(((row[0], row[1]), row[2:]))"
   ]
  },
  {
   "cell_type": "code",
   "execution_count": null,
   "metadata": {
    "collapsed": true
   },
   "outputs": [],
   "source": [
    "phil_citations = {}\n",
    "\n",
    "for citation in edge_list:\n",
    "    if citation[0][0] in phil_citations:\n",
    "        phil_citations[citation[0][0]] = phil_citations[citation[0][0]] + 1\n",
    "    else:\n",
    "        phil_citations[citation[0][0]] = 1\n",
    "    if citation[0][1] in phil_citations:\n",
    "        phil_citations[citation[0][1]] = phil_citations[citation[0][1]] + 1\n",
    "    else:\n",
    "        phil_citations[citation[0][1]] = 1"
   ]
  },
  {
   "cell_type": "code",
   "execution_count": null,
   "metadata": {
    "collapsed": true
   },
   "outputs": [],
   "source": [
    "import re\n",
    "\n",
    "# Tag the canonical philosophers\n",
    "correction_dict = {}\n",
    "\n",
    "citation_graph = nx.Graph()\n",
    "count = 0\n",
    "with open('/afs/inf.ed.ac.uk/user/s16/s1681453/data_justin/stn_node_list_wos.csv') as csvfile:\n",
    "    reader = csv.reader(csvfile, delimiter=',')\n",
    "    next(reader) # Skip the header\n",
    "    for row in reader:\n",
    "        count = count + 1\n",
    "        if count % 1000 == 0:\n",
    "            print(count)\n",
    "        added = False\n",
    "        row_split = row[0].split(\" \")\n",
    "        for x in cleaned_names:\n",
    "            x_split = x.split(\" \")\n",
    "            if row[0] == x:\n",
    "                citation_graph.add_node(row[0], canonical=True)\n",
    "                correction_dict[row[0]] = x\n",
    "                added = True\n",
    "            elif row[0] in x and row_split[0] == x_split[0]:\n",
    "                # Count occurrences of (split) x[0] + x[1] vs occurrences of (split) x[0] + not x[1] and if ratio \n",
    "                # is too low then don't correct\n",
    "                occurrences_x = 0\n",
    "                occurrences_not_x = 0\n",
    "                x_pattern = re.compile(x_split[0])\n",
    "                not_x_pattern = re.compile(x_split[0] + \" \")\n",
    "                if len(x_split) > 1:\n",
    "                    x_pattern = re.compile(x_split[0] + \" \" + x_split[1])\n",
    "                    not_x_pattern = re.compile(x_split[0] + \" \" + \"[^\" + x_split[1] + \"]\")\n",
    "                for phil in phil_citations:\n",
    "                    if x_pattern.match(phil):\n",
    "                        occurrences_x = occurrences_x + phil_citations[phil]\n",
    "                    if not_x_pattern.match(phil):\n",
    "                        occurrences_not_x = occurrences_not_x + phil_citations[phil]\n",
    "                if occurrences_x - occurrences_not_x > 0:\n",
    "                    citation_graph.add_node(row[0], canonical=True)\n",
    "                    correction_dict[row[0]] = x\n",
    "                    added = True\n",
    "        if not added:\n",
    "            citation_graph.add_node(row[0], canonical=False)"
   ]
  },
  {
   "cell_type": "code",
   "execution_count": null,
   "metadata": {
    "collapsed": true
   },
   "outputs": [],
   "source": [
    "def dictValOrOriginal(dict, original):\n",
    "    if original in dict:\n",
    "        return dict[original]\n",
    "    else:\n",
    "        return original\n",
    "\n",
    "for edge in edge_list:\n",
    "    citation_graph.add_edge(dictValOrOriginal(correction_dict, edge[0][0]), \n",
    "                            dictValOrOriginal(correction_dict, edge[0][1]), \n",
    "                            year=edge[1][0], journal=edge[1][1], \n",
    "                            article_id=edge[1][2], language=edge[1][3], keywords=edge[1][4])"
   ]
  },
  {
   "cell_type": "code",
   "execution_count": null,
   "metadata": {
    "collapsed": true
   },
   "outputs": [],
   "source": [
    "nx.write_gpickle(citation_graph, '/afs/inf.ed.ac.uk/user/s16/s1681453/data_justin/citation_graph_pickle')\n",
    "# Unpickle with nx.read_gpickle(path)"
   ]
  }
 ],
 "metadata": {
  "anaconda-cloud": {},
  "kernelspec": {
   "display_name": "Python [conda root]",
   "language": "python",
   "name": "conda-root-py"
  },
  "language_info": {
   "codemirror_mode": {
    "name": "ipython",
    "version": 3
   },
   "file_extension": ".py",
   "mimetype": "text/x-python",
   "name": "python",
   "nbconvert_exporter": "python",
   "pygments_lexer": "ipython3",
   "version": "3.5.2"
  }
 },
 "nbformat": 4,
 "nbformat_minor": 1
}
