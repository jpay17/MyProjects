{
 "cells": [
  {
   "cell_type": "code",
   "execution_count": 165,
   "metadata": {
    "collapsed": false
   },
   "outputs": [],
   "source": [
    "import networkx as nx\n",
    "import csv\n",
    "import matplotlib.pyplot as plt\n",
    "import collections\n",
    "import numpy as np\n",
    "from fuzzywuzzy import fuzz\n",
    "%matplotlib inline"
   ]
  },
  {
   "cell_type": "code",
   "execution_count": null,
   "metadata": {
    "collapsed": true
   },
   "outputs": [],
   "source": [
    "# This code is all data-specific, but instructions are given later on how\n",
    "# later code can be generalized. It may be quite difficult in practice.\n",
    "# The point where code becomes generalizable is well-marked."
   ]
  },
  {
   "cell_type": "code",
   "execution_count": 166,
   "metadata": {
    "collapsed": true
   },
   "outputs": [],
   "source": [
    "# This code reads in the graph constructed using DBpedia\n",
    "phil_graph = nx.Graph()"
   ]
  },
  {
   "cell_type": "code",
   "execution_count": 167,
   "metadata": {
    "collapsed": false
   },
   "outputs": [],
   "source": [
    "# Populate nodes\n",
    "with open('/afs/inf.ed.ac.uk/user/s16/s1681453/data_justin/stn_phil_list2.csv') as csvfile:\n",
    "    reader = csv.reader(csvfile, delimiter=',')\n",
    "    next(reader) # Skip the header\n",
    "    for row in reader:\n",
    "        phil_graph.add_node(row[0], name=row[2])"
   ]
  },
  {
   "cell_type": "code",
   "execution_count": 168,
   "metadata": {
    "collapsed": false
   },
   "outputs": [],
   "source": [
    "# Populate edges\n",
    "with open('/afs/inf.ed.ac.uk/user/s16/s1681453/data_justin/stn_phil_edges.csv') as csvfile:\n",
    "    reader = csv.reader(csvfile, delimiter=',')\n",
    "    next(reader) # Skip the header\n",
    "    phil_graph.add_edges_from(reader)"
   ]
  },
  {
   "cell_type": "code",
   "execution_count": 169,
   "metadata": {
    "collapsed": false
   },
   "outputs": [],
   "source": [
    "# Aids in identifying communities\n",
    "names_to_nodes = {}\n",
    "for n, d in phil_graph.nodes_iter(data=True):\n",
    "    l = d['name']\n",
    "    names_to_nodes[l] = n"
   ]
  },
  {
   "cell_type": "code",
   "execution_count": 170,
   "metadata": {
    "collapsed": false
   },
   "outputs": [],
   "source": [
    "# Identify communities; I used this query on DBpedia to build the \n",
    "# list of philosophers and their communities:\n",
    "# select ?interest ?name where {\n",
    "# ?phil a <http://dbpedia.org/ontology/Philosopher>.\n",
    "# ?phil <http://dbpedia.org/ontology/mainInterest> ?interest.\n",
    "# ?phil <http://dbpedia.org/property/name> ?name.\n",
    "# } order by ?interest\n",
    "communities = {}\n",
    "with open('/afs/inf.ed.ac.uk/user/s16/s1681453/data_justin/Main_Interests.csv') as csvfile:\n",
    "    reader = csv.reader(csvfile, delimiter=',')\n",
    "    for row in reader:\n",
    "        if row[1] in names_to_nodes:\n",
    "            if row[0] in communities:\n",
    "                communities[row[0]].append(names_to_nodes[row[1]])\n",
    "            else:\n",
    "                communities[row[0]] = []\n",
    "                communities[row[0]].append(names_to_nodes[row[1]])  "
   ]
  },
  {
   "cell_type": "code",
   "execution_count": 171,
   "metadata": {
    "collapsed": false
   },
   "outputs": [],
   "source": [
    "def biggest_connected_component(subgraph):\n",
    "    gen = nx.connected_component_subgraphs(subgraph)\n",
    "    max_size = 0\n",
    "    biggest_comp = nx.Graph()\n",
    "    for next_graph in gen:\n",
    "        if next_graph.number_of_nodes() > max_size:\n",
    "            biggest_comp = next_graph\n",
    "            max_size = next_graph.number_of_nodes()\n",
    "    return biggest_comp"
   ]
  },
  {
   "cell_type": "code",
   "execution_count": 197,
   "metadata": {
    "collapsed": true
   },
   "outputs": [],
   "source": [
    "communities_connected_pruned = {interest:biggest_connected_component(\n",
    "                                phil_graph.subgraph(phil)) \n",
    "                                for (interest, phil) \n",
    "                                in communities.items() \n",
    "                                if biggest_connected_component(\n",
    "                    phil_graph.subgraph(phil)).number_of_nodes() > 7}"
   ]
  },
  {
   "cell_type": "code",
   "execution_count": 173,
   "metadata": {
    "collapsed": false
   },
   "outputs": [
    {
     "name": "stdout",
     "output_type": "stream",
     "text": [
      "http://dbpedia.org/resource/Logic 22\n",
      "http://dbpedia.org/resource/Ethics 48\n",
      "http://dbpedia.org/resource/Epistemology 66\n",
      "http://dbpedia.org/resource/Political_philosophy 49\n",
      "http://dbpedia.org/resource/Philosophy_of_mind 27\n",
      "http://dbpedia.org/resource/Politics 12\n",
      "http://dbpedia.org/resource/Physics 8\n",
      "http://dbpedia.org/resource/Metaphysics 61\n",
      "http://dbpedia.org/resource/Aesthetics 27\n",
      "http://dbpedia.org/resource/Philosophy_of_language 32\n",
      "http://dbpedia.org/resource/Philosophy_of_science 29\n",
      "http://dbpedia.org/resource/Ontology 21\n",
      "http://dbpedia.org/resource/Philosophy_of_mathematics 13\n"
     ]
    }
   ],
   "source": [
    "for x in communities_connected_pruned:\n",
    "    print(x, len(communities_connected_pruned[x]))"
   ]
  },
  {
   "cell_type": "code",
   "execution_count": 174,
   "metadata": {
    "collapsed": false
   },
   "outputs": [
    {
     "name": "stderr",
     "output_type": "stream",
     "text": [
      "/Users/justinpayan/anaconda3/lib/python3.5/site-packages/matplotlib/figure.py:1742: UserWarning: This figure includes Axes that are not compatible with tight_layout, so its results might be incorrect.\n",
      "  warnings.warn(\"This figure includes Axes that are not \"\n"
     ]
    },
    {
     "data": {
      "image/png": "[encoded data removed]",
      "text/plain": [
       "<matplotlib.figure.Figure at 0x12960dd30>"
      ]
     },
     "metadata": {},
     "output_type": "display_data"
    }
   ],
   "source": [
    "nx.draw(communities_connected_pruned['http://dbpedia.org/resource/Logic'])"
   ]
  },
  {
   "cell_type": "code",
   "execution_count": 175,
   "metadata": {
    "collapsed": true
   },
   "outputs": [],
   "source": [
    "# Now we read in the graph from Web of Science\n",
    "citation_graph = nx.read_gpickle('/afs/inf.ed.ac.uk/user/s16/s1681453/data_justin/bipartite_pickle.pickle')"
   ]
  },
  {
   "cell_type": "code",
   "execution_count": 198,
   "metadata": {
    "collapsed": false
   },
   "outputs": [
    {
     "name": "stdout",
     "output_type": "stream",
     "text": [
      "101083\n",
      "696923\n",
      "1530\n",
      "5546\n",
      "511\n"
     ]
    }
   ],
   "source": [
    "print(citation_graph.number_of_nodes())\n",
    "print(citation_graph.number_of_edges())\n",
    "print(phil_graph.number_of_nodes())\n",
    "print(phil_graph.number_of_edges())\n",
    "\n",
    "# Number of canonical philosophers in the citation network\n",
    "print(len([x for x in citation_graph.node if \n",
    "           citation_graph.node[x]['bipartite'] == 1])) "
   ]
  },
  {
   "cell_type": "code",
   "execution_count": 202,
   "metadata": {
    "collapsed": false
   },
   "outputs": [],
   "source": [
    "# Past this point, the code may be run with any dataset. Simply replace all \n",
    "# instances of \"communities_connected_pruned\" with a dictionary of communities \n",
    "# of your choosing (keys should be labels, and values should be subgraphs relating\n",
    "# to communities). You will also have to change the phil_graph instances and \n",
    "# the citation_graph instances to some other 2 reasonable graphs for your dataset.\n",
    "\n",
    "# All of the metrics are defined here.\n",
    "def avg_shortest_path_length_metric(community_1, \n",
    "                                    community_2, params):\n",
    "    total_num_paths = community_1.number_of_nodes()* \\\n",
    "                        community_2.number_of_nodes()\n",
    "    sum_path_lengths = 0.0\n",
    "    for x in community_1.nodes():\n",
    "        for y in community_2.nodes():\n",
    "            sum_path_lengths = sum_path_lengths + \\\n",
    "            nx.shortest_path_length(phil_graph, x, y)\n",
    "    return sum_path_lengths / total_num_paths"
   ]
  },
  {
   "cell_type": "code",
   "execution_count": 178,
   "metadata": {
    "collapsed": true
   },
   "outputs": [],
   "source": [
    "def max_ICDF_metric(community_1, community_2, params):\n",
    "    max_deg = max(community_1.degree().values(), \n",
    "                  key=lambda y:y)\n",
    "    icdf_1 = max_deg/community_1.number_of_nodes()\n",
    "    max_deg = max(community_2.degree().values(), \n",
    "                  key=lambda y:y)\n",
    "    icdf_2 = max_deg/community_2.number_of_nodes()\n",
    "    return np.abs(icdf_1 - icdf_2)"
   ]
  },
  {
   "cell_type": "code",
   "execution_count": 179,
   "metadata": {
    "collapsed": true
   },
   "outputs": [],
   "source": [
    "def rand_sim(x, y, params):\n",
    "    return(np.random.rand())"
   ]
  },
  {
   "cell_type": "code",
   "execution_count": 180,
   "metadata": {
    "collapsed": false
   },
   "outputs": [],
   "source": [
    "def power_law_fit(to_fit):\n",
    "    \"\"\"Input a dictionary with x values as keys and y \n",
    "    values as values. Outputs the coefficient and \n",
    "        exponent of a power law distribution fit.\n",
    "    \"\"\"\n",
    "    log_y_vals = [np.log(y) for x,y in to_fit.items()]\n",
    "    x_vals = [[1, x] for x in to_fit]\n",
    "    w_fit = np.linalg.lstsq(x_vals, log_y_vals)[0]\n",
    "    return np.exp(w_fit[0]), np.exp(w_fit[1])\n",
    "\n",
    "def temp_pwr_law_sim(x,y,params):\n",
    "    degrees = [b for a,b in x.degree().items()]\n",
    "    dist = collections.Counter(degrees)\n",
    "    fit_1 = power_law_fit(dist)\n",
    "    \n",
    "    degrees = [b for a,b in y.degree().items()]\n",
    "    dist = collections.Counter(degrees)\n",
    "    fit_2 = power_law_fit(dist)\n",
    "    return(np.abs(fit_1[1] - fit_2[1]))"
   ]
  },
  {
   "cell_type": "code",
   "execution_count": 181,
   "metadata": {
    "collapsed": false
   },
   "outputs": [],
   "source": [
    "# This code is adapted from here: \n",
    "# http://stackoverflow.com/questions/12122021/python-\n",
    "# implementation-of-a-graph-similarity-grading-algorithm\n",
    "def choose_final(spectrum, min_energy):\n",
    "    current = 0.0\n",
    "    total = sum(spectrum)\n",
    "    if total == 0.0:\n",
    "        return len(spectrum)\n",
    "    for i in range(len(spectrum)):\n",
    "        current += spectrum[i]\n",
    "        if current / total >= min_energy:\n",
    "            return i + 1\n",
    "    return len(spectrum)\n",
    "\n",
    "def spectral_sim(graph1, graph2, params):\n",
    "    laplacian1 = nx.spectrum.laplacian_spectrum(graph1)\n",
    "    laplacian2 = nx.spectrum.laplacian_spectrum(graph2)\n",
    "\n",
    "    k1 = choose_final(laplacian1, 0.9)\n",
    "    k2 = choose_final(laplacian2, 0.9)\n",
    "    k = min(k1, k2)\n",
    "\n",
    "    return sum((laplacian1[:k] - laplacian2[:k])**2)"
   ]
  },
  {
   "cell_type": "code",
   "execution_count": 203,
   "metadata": {
    "collapsed": false
   },
   "outputs": [],
   "source": [
    "# For each pair of canonical communities, we compute the \n",
    "# similarity as the ratio of the overlap in contemporary \n",
    "# philosophers citing them to the total number of \n",
    "# contemporary philosophers citing them\n",
    "def compute_all_overlap_similarities(community_1, \n",
    "                                     community_2, parameters):\n",
    "    canonical_phils_1 = list(\n",
    "        nx.get_node_attributes(community_1, 'name').values())\n",
    "    canonical_phils_2 = list(\n",
    "        nx.get_node_attributes(community_2, 'name').values())\n",
    "    citing_philosophers_1 = set_of_citers(canonical_phils_1)\n",
    "    citing_philosophers_2 = set_of_citers(canonical_phils_2)\n",
    "    return len(citing_philosophers_1 & citing_philosophers_2) / \\\n",
    "            len(citing_philosophers_1 | citing_philosophers_2)\n",
    "\n",
    "\n",
    "def set_of_citers(canonical_phils):\n",
    "    citers = set()\n",
    "    for raw_name in canonical_phils:\n",
    "        list_name = raw_name.lower().split(' ')\n",
    "        cleaned_name = list_name[-1]\n",
    "        for f in list_name[:-1]:\n",
    "            cleaned_name = cleaned_name + \" \" + f[0]\n",
    "        if citation_graph.has_node(cleaned_name):\n",
    "            citers = citers | set(\n",
    "                citation_graph.predecessors(cleaned_name))\n",
    "    return citers"
   ]
  },
  {
   "cell_type": "code",
   "execution_count": 204,
   "metadata": {
    "collapsed": true
   },
   "outputs": [],
   "source": [
    "# A generic function that takes in the dictionary of the \n",
    "# communities, a list of other parameters needed, and a\n",
    "# similarity metric, and outputs a dictionary of community \n",
    "# name pairs mapped to their similarity metric\n",
    "def compute_similarities(dict_of_communities, \n",
    "                         parameters, sim_metric):\n",
    "    list_of_topics = list(dict_of_communities.keys())\n",
    "        \n",
    "    result = {}\n",
    "    for topic_1_num in range(len(list_of_topics)):\n",
    "        for topic_2_num in range(topic_1_num+1, \n",
    "                                 len(list_of_topics)):\n",
    "            result[(list_of_topics[topic_1_num].split(\"/\")[-1], \n",
    "                    list_of_topics[topic_2_num].split(\"/\")[-1])] = \\\n",
    "                    sim_metric(dict_of_communities[list_of_topics[topic_1_num]], \n",
    "                    dict_of_communities[list_of_topics[topic_2_num]], parameters)\n",
    "    return result"
   ]
  },
  {
   "cell_type": "code",
   "execution_count": 184,
   "metadata": {
    "collapsed": true
   },
   "outputs": [],
   "source": [
    "def normalize_dictionary(dictionary):\n",
    "    max_val = max(list(dictionary.values()))\n",
    "    min_val = min(list(dictionary.values()))\n",
    "    for a in dictionary:\n",
    "        dictionary[a] = (dictionary[a]-min_val)/(max_val-min_val)"
   ]
  },
  {
   "cell_type": "code",
   "execution_count": 185,
   "metadata": {
    "collapsed": false
   },
   "outputs": [],
   "source": [
    "def rmse_two_metrics(metric_1, metric_2):\n",
    "    sim_1 = compute_similarities(communities_connected_pruned, \n",
    "                                 [], metric_1)\n",
    "    sim_2 = compute_similarities(communities_connected_pruned, \n",
    "                                 [], metric_2)\n",
    "    normalize_dictionary(sim_1)\n",
    "    normalize_dictionary(sim_2)\n",
    "    sse = 0.0\n",
    "    for x,y in sim_1.items():\n",
    "        sse = sse + (y - sim_2[x])**2\n",
    "    return np.sqrt(sse / len(sim_1))"
   ]
  },
  {
   "cell_type": "code",
   "execution_count": 206,
   "metadata": {
    "collapsed": false
   },
   "outputs": [],
   "source": [
    "def compute_points_with_rules(dict_of_sim_scores):\n",
    "    groups = (('Epistemology', \n",
    "               'Metaphysics', \n",
    "               'Philosophy_of_language', \n",
    "               'Philosophy_of_mind', \n",
    "               'Ontology'),\n",
    "              \n",
    "              ('Politics', \n",
    "               'Aesthetics', \n",
    "               'Political_philosophy', \n",
    "               'Ethics'),\n",
    "              \n",
    "              ('Logic', \n",
    "               'Physics', \n",
    "               'Philosophy_of_mathematics', \n",
    "               'Philosophy_of_science')\n",
    "             )\n",
    "    points = 0\n",
    "    for topic_1 in groups[0]:\n",
    "        for topic_2 in groups[0]:\n",
    "            if (topic_1, topic_2) in dict_of_sim_scores:\n",
    "                for topic_3 in groups[1]:\n",
    "                    if (topic_1, topic_3) in dict_of_sim_scores:\n",
    "                        if dict_of_sim_scores[(topic_1, topic_3)] < \\\n",
    "                        dict_of_sim_scores[(topic_1, topic_2)]:\n",
    "                            points = points + 1\n",
    "                    if (topic_3, topic_1) in dict_of_sim_scores:\n",
    "                        if dict_of_sim_scores[(topic_3, topic_1)] < \\\n",
    "                        dict_of_sim_scores[(topic_1, topic_2)]:\n",
    "                            points = points + 1\n",
    "                for topic_3 in groups[2]:\n",
    "                    if (topic_1, topic_3) in dict_of_sim_scores:\n",
    "                        if dict_of_sim_scores[(topic_1, topic_3)] < \\\n",
    "                        dict_of_sim_scores[(topic_1, topic_2)]:\n",
    "                            points = points + 1\n",
    "                    if (topic_3, topic_1) in dict_of_sim_scores:\n",
    "                        if dict_of_sim_scores[(topic_3, topic_1)] < \\\n",
    "                        dict_of_sim_scores[(topic_1, topic_2)]:\n",
    "                            points = points + 1\n",
    "                            \n",
    "    for topic_1 in groups[1]:\n",
    "        for topic_2 in groups[1]:\n",
    "            if (topic_1, topic_2) in dict_of_sim_scores:\n",
    "                for topic_3 in groups[2]:\n",
    "                    if (topic_1, topic_3) in dict_of_sim_scores:\n",
    "                        if dict_of_sim_scores[(topic_1, topic_3)] < \\\n",
    "                        dict_of_sim_scores[(topic_1, topic_2)]:\n",
    "                            points = points + 1\n",
    "                    if (topic_3, topic_1) in dict_of_sim_scores:\n",
    "                        if dict_of_sim_scores[(topic_3, topic_1)] < \\\n",
    "                        dict_of_sim_scores[(topic_1, topic_2)]:\n",
    "                            points = points + 1\n",
    "    return points"
   ]
  },
  {
   "cell_type": "markdown",
   "metadata": {
    "collapsed": true
   },
   "source": [
    "The number of possible points is 208."
   ]
  },
  {
   "cell_type": "code",
   "execution_count": 192,
   "metadata": {
    "collapsed": false
   },
   "outputs": [],
   "source": [
    "list_of_sim1 = compute_similarities(communities_connected_pruned, \n",
    "                                    [], avg_shortest_path_length_metric)\n",
    "list_of_sim2 = compute_similarities(communities_connected_pruned, \n",
    "                                    [], temp_pwr_law_sim)\n",
    "list_of_sim3 = compute_similarities(communities_connected_pruned, \n",
    "                                    [], rand_sim)\n",
    "list_of_sim4 = compute_similarities(communities_connected_pruned, \n",
    "                                    [], max_ICDF_metric)\n",
    "list_of_sim5 = compute_similarities(communities_connected_pruned, \n",
    "                                    [], compute_all_overlap_similarities)\n",
    "list_of_sim6 = compute_similarities(communities_connected_pruned, \n",
    "                                    [], spectral_sim)"
   ]
  },
  {
   "cell_type": "code",
   "execution_count": 193,
   "metadata": {
    "collapsed": false
   },
   "outputs": [],
   "source": [
    "score = []\n",
    "score.append(compute_points_with_rules(list_of_sim1))\n",
    "score.append(compute_points_with_rules(list_of_sim2))\n",
    "score.append(compute_points_with_rules(list_of_sim3))\n",
    "score.append(compute_points_with_rules(list_of_sim4))\n",
    "score.append(compute_points_with_rules(list_of_sim5))\n",
    "score.append(compute_points_with_rules(list_of_sim6))"
   ]
  },
  {
   "cell_type": "code",
   "execution_count": 213,
   "metadata": {
    "collapsed": false
   },
   "outputs": [
    {
     "data": {
      "image/png": "[encoded data removed]",
      "text/plain": [
       "<matplotlib.figure.Figure at 0x1296b0a90>"
      ]
     },
     "metadata": {},
     "output_type": "display_data"
    }
   ],
   "source": [
    "plt.plot(score, '.')\n",
    "plt.title(\"Number of Taxonomy Rules Satisfied by Metrics\", size=9.7)\n",
    "plt.ylabel(\"Number of Rules Satisfied\")\n",
    "plt.xlim([-0.2, 5.2])\n",
    "plt.ylim([30, 85])\n",
    "plt.xticks(range(6), [\"Average Shortest Path Length\", \"Power-Law Exponent\", \n",
    "                         \"Random\", \"Max ICDF\", \n",
    "                         \"Overlap Metric\", \"Spectral Method\"], size=7, rotation=20, ha='right')\n",
    "#plt.gcf().subplots_adjust(bottom=0.15)\n",
    "plt.savefig(\"RulesSat.png\")"
   ]
  },
  {
   "cell_type": "code",
   "execution_count": 190,
   "metadata": {
    "collapsed": true
   },
   "outputs": [],
   "source": [
    "rmse = []\n",
    "rmse.append(rmse_two_metrics(compute_all_overlap_similarities, \n",
    "                             spectral_sim))\n",
    "rmse.append(rmse_two_metrics(compute_all_overlap_similarities, \n",
    "                             max_ICDF_metric))\n",
    "rmse.append(rmse_two_metrics(compute_all_overlap_similarities, \n",
    "                             temp_pwr_law_sim))\n",
    "rmse.append(rmse_two_metrics(compute_all_overlap_similarities, \n",
    "                             avg_shortest_path_length_metric))\n",
    "rmse.append(rmse_two_metrics(compute_all_overlap_similarities, \n",
    "                             rand_sim))"
   ]
  },
  {
   "cell_type": "code",
   "execution_count": 214,
   "metadata": {
    "collapsed": false
   },
   "outputs": [
    {
     "data": {
      "image/png": "[encoded data removed]",
      "text/plain": [
       "<matplotlib.figure.Figure at 0x14a413ba8>"
      ]
     },
     "metadata": {},
     "output_type": "display_data"
    }
   ],
   "source": [
    "plt.plot(rmse, '.')\n",
    "plt.title(\"RMSE of Metrics vs Overlap Metric\", size=9.7)\n",
    "plt.ylabel(\"RMSE\")\n",
    "plt.xlim([-0.2, 4.2])\n",
    "plt.ylim([0.25, 0.5])\n",
    "plt.xticks(range(5), [\"Spectral Method\", \"Max ICDF\", \"Power-Law Exponent\", \n",
    "                    \"Average Shortest Path Length\", \"Random\"], size=7, rotation=20, ha='right')\n",
    "#plt.gcf().subplots_adjust(bottom=.35, left=.2, right=.8)\n",
    "plt.savefig(\"RMSE.png\")"
   ]
  },
  {
   "cell_type": "code",
   "execution_count": null,
   "metadata": {
    "collapsed": true
   },
   "outputs": [],
   "source": []
  }
 ],
 "metadata": {
  "anaconda-cloud": {},
  "kernelspec": {
   "display_name": "Python [conda root]",
   "language": "python",
   "name": "conda-root-py"
  },
  "language_info": {
   "codemirror_mode": {
    "name": "ipython",
    "version": 3
   },
   "file_extension": ".py",
   "mimetype": "text/x-python",
   "name": "python",
   "nbconvert_exporter": "python",
   "pygments_lexer": "ipython3",
   "version": "3.5.2"
  }
 },
 "nbformat": 4,
 "nbformat_minor": 0
}
